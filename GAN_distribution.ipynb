{
 "cells": [
  {
   "cell_type": "code",
   "execution_count": 3,
   "metadata": {},
   "outputs": [],
   "source": [
    "import numpy as np\n",
    "import tensorflow as tf\n",
    "import matplotlib.pyplot as plt\n",
    "from IPython.display import clear_output\n",
    "%matplotlib inline"
   ]
  },
  {
   "cell_type": "code",
   "execution_count": 4,
   "metadata": {},
   "outputs": [],
   "source": [
    "batch_size = 64\n",
    "updates = 40000\n",
    "learning_rate = 0.01\n",
    "noise_range = 5"
   ]
  },
  {
   "cell_type": "code",
   "execution_count": 5,
   "metadata": {},
   "outputs": [],
   "source": [
    "tf.reset_default_graph()"
   ]
  },
  {
   "cell_type": "code",
   "execution_count": 6,
   "metadata": {},
   "outputs": [],
   "source": [
    "gen_weights = dict()\n",
    "gen_weights['w1'] = tf.Variable(tf.random_normal([1,5]))\n",
    "gen_weights['b1'] = tf.Variable(tf.random_normal([5]))\n",
    "gen_weights['w2'] = tf.Variable(tf.random_normal([5,1]))\n",
    "gen_weights['b2'] = tf.Variable(tf.random_normal([1]))\n",
    "\n",
    "disc_weights = dict()\n",
    "disc_weights['w1'] = tf.Variable(tf.random_normal([1,10]))\n",
    "disc_weights['b1'] = tf.Variable(tf.random_normal([10]))\n",
    "disc_weights['w2'] = tf.Variable(tf.random_normal([10,10]))\n",
    "disc_weights['b2'] = tf.Variable(tf.random_normal([10]))\n",
    "disc_weights['w3'] = tf.Variable(tf.random_normal([10,1]))\n",
    "disc_weights['b3'] = tf.Variable(tf.random_normal([1]))\n",
    "\n",
    "z_p = tf.placeholder('float', [None, 1])\n",
    "x_d = tf.placeholder('float', [None, 1])\n",
    "\n",
    "g_h = tf.nn.softplus(tf.add(\n",
    "           tf.matmul(z_p, gen_weights['w1']),gen_weights['b1']))\n",
    "x_g = tf.add(tf.matmul(g_h, gen_weights['w2']), gen_weights['b2'])\n",
    "\n",
    "def discriminator(x):\n",
    "    d_h1 = tf.nn.tanh(tf.add(\n",
    "        tf.matmul(x, disc_weights['w1']), disc_weights['b1']))\n",
    "    d_h2 = tf.nn.tanh(tf.add(\n",
    "        tf.matmul(d_h1, disc_weights['w2']),disc_weights['b2']))\n",
    "#     score = tf.nn.sigmoid(tf.add(\n",
    "#         tf.matmul(d_h2, disc_weights['w3']), disc_weights['b3']))\n",
    "\n",
    "    score = tf.add(\n",
    "        tf.matmul(d_h2, disc_weights['w3']), disc_weights['b3'])\n",
    "    \n",
    "    return score\n",
    "\n",
    "x_data_score = discriminator(x_d)\n",
    "x_gen_score = discriminator(x_g)\n",
    "\n",
    "# D_cost = -tf.reduce_mean(tf.log(x_data_score) + tf.log(1.0 - x_gen_score))\n",
    "# G_cost = tf.reduce_mean(tf.log(1.0 - x_gen_score))\n",
    "\n",
    "D_plus_cost = tf.reduce_mean(tf.nn.relu(x_data_score) - x_data_score + tf.log(1.0 + tf.exp(-tf.abs(x_data_score))))\n",
    "D_minus_cost = tf.reduce_mean(tf.nn.relu(x_gen_score) + tf.log(1.0 + tf.exp(-tf.abs(x_gen_score))))\n",
    "G_cost = tf.reduce_mean(tf.nn.relu(x_gen_score) - x_gen_score + tf.log(1.0 + tf.exp(-tf.abs(x_gen_score))))\n",
    "D_cost = D_plus_cost + D_minus_cost\n",
    "\n",
    "\n",
    "optimizer = tf.train.GradientDescentOptimizer(learning_rate)\n",
    "D_optimizer = optimizer.minimize(D_cost, var_list=list(disc_weights.values()))\n",
    "G_optimizer = optimizer.minimize(G_cost, var_list=list(gen_weights.values()))"
   ]
  },
  {
   "cell_type": "code",
   "execution_count": 7,
   "metadata": {},
   "outputs": [],
   "source": [
    "def sample_z(size=batch_size):\n",
    "    return np.random.uniform(-noise_range, noise_range, size=[size,1])\n",
    "def sample_x(size=batch_size):\n",
    "    return np.random.normal(-2.5, 0.5, size=[size, 1])"
   ]
  },
  {
   "cell_type": "code",
   "execution_count": 8,
   "metadata": {},
   "outputs": [],
   "source": [
    "sess = tf.Session()"
   ]
  },
  {
   "cell_type": "code",
   "execution_count": 9,
   "metadata": {},
   "outputs": [],
   "source": [
    "init = tf.global_variables_initializer()\n",
    "sess.run(init)"
   ]
  },
  {
   "cell_type": "code",
   "execution_count": 10,
   "metadata": {},
   "outputs": [
    {
     "name": "stdout",
     "output_type": "stream",
     "text": [
      "Update #40000\n"
     ]
    }
   ],
   "source": [
    "for i in range(updates):\n",
    "    print('Update #{}'.format(i+1))\n",
    "    clear_output(wait=True)\n",
    "    z_batch = sample_z()\n",
    "    x_batch = sample_x()\n",
    "    sess.run(D_optimizer, feed_dict={z_p: z_batch, x_d: x_batch})\n",
    "    z_batch = sample_z()\n",
    "    sess.run(G_optimizer, feed_dict={z_p: z_batch})"
   ]
  },
  {
   "cell_type": "code",
   "execution_count": 11,
   "metadata": {},
   "outputs": [],
   "source": [
    "out_data = x_g.eval(feed_dict={z_p: sample_z(10000)}, session=sess)"
   ]
  },
  {
   "cell_type": "code",
   "execution_count": 15,
   "metadata": {},
   "outputs": [
    {
     "data": {
      "text/plain": [
       "<matplotlib.legend.Legend at 0x2d603202be0>"
      ]
     },
     "execution_count": 15,
     "metadata": {},
     "output_type": "execute_result"
    },
    {
     "data": {
      "image/png": "[encoded data removed]",
      "text/plain": [
       "<Figure size 432x288 with 1 Axes>"
      ]
     },
     "metadata": {
      "needs_background": "light"
     },
     "output_type": "display_data"
    }
   ],
   "source": [
    "plt.hist(out_data, bins=200, label = 'Generated');\n",
    "plt.hist(sample_x(10000), bins=200, histtype='step', label = 'N(-2.5, 0.5)');\n",
    "plt.legend()"
   ]
  }
 ],
 "metadata": {
  "kernelspec": {
   "display_name": "Python 3",
   "language": "python",
   "name": "python3"
  },
  "language_info": {
   "codemirror_mode": {
    "name": "ipython",
    "version": 3
   },
   "file_extension": ".py",
   "mimetype": "text/x-python",
   "name": "python",
   "nbconvert_exporter": "python",
   "pygments_lexer": "ipython3",
   "version": "3.6.6"
  }
 },
 "nbformat": 4,
 "nbformat_minor": 2
}
