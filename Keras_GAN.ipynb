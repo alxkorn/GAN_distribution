{
 "cells": [
  {
   "cell_type": "code",
   "execution_count": 5,
   "metadata": {},
   "outputs": [],
   "source": [
    "from keras.layers import Input\n",
    "from keras.layers.core import Dense, Activation\n",
    "from keras.models import Model, Sequential\n",
    "from keras.initializers import glorot_normal"
   ]
  },
  {
   "cell_type": "code",
   "execution_count": 3,
   "metadata": {},
   "outputs": [],
   "source": [
    "N_INPUTS = 100"
   ]
  },
  {
   "cell_type": "code",
   "execution_count": 11,
   "metadata": {},
   "outputs": [],
   "source": [
    "generator_cell = Sequential()\n",
    "generator_cell.add(Dense(10, activation='tanh',input_shape=(1,1), \n",
    "                         kernel_initializer=glorot_normal(),bias_initializer=glorot_normal()))\n",
    "generator_cell.add(Dense(15, activation='tanh',\n",
    "                         kernel_initializer=glorot_normal(),bias_initializer=glorot_normal()))\n",
    "generator_cell.add(Dense(10, activation='tanh', \n",
    "                         kernel_initializer=glorot_normal(),bias_initializer=glorot_normal()))\n",
    "generator_cell.add(Dense(1, activation='tanh',\n",
    "                         kernel_initializer=glorot_normal(),bias_initializer=glorot_normal()))"
   ]
  },
  {
   "cell_type": "code",
   "execution_count": 4,
   "metadata": {},
   "outputs": [],
   "source": [
    "inputs = Input(shape=(N_INPUTS,1))"
   ]
  },
  {
   "cell_type": "code",
   "execution_count": null,
   "metadata": {},
   "outputs": [],
   "source": [
    "x = Dense(10)(inputs)"
   ]
  }
 ],
 "metadata": {
  "kernelspec": {
   "display_name": "Python 3",
   "language": "python",
   "name": "python3"
  },
  "language_info": {
   "codemirror_mode": {
    "name": "ipython",
    "version": 3
   },
   "file_extension": ".py",
   "mimetype": "text/x-python",
   "name": "python",
   "nbconvert_exporter": "python",
   "pygments_lexer": "ipython3",
   "version": "3.6.4"
  }
 },
 "nbformat": 4,
 "nbformat_minor": 2
}
